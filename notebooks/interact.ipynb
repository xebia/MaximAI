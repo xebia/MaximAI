{
 "cells": [
  {
   "cell_type": "code",
   "execution_count": 33,
   "metadata": {},
   "outputs": [],
   "source": [
    "import json\n",
    "\n",
    "import requests\n",
    "\n",
    "# Replace this with your actual URL\n",
    "URL = \"http://127.0.0.1:8000/chat\"\n",
    "\n",
    "# The data to be sent with the POST request\n",
    "payload = {\"text\": \"hi I feel pain\", \"user_id\": \"Emmy\"}\n",
    "\n",
    "# Headers to indicate that the content type is JSON\n",
    "headers = {\"Content-Type\": \"application/json\"}\n",
    "\n",
    "# Make the POST request\n",
    "response = requests.post(URL, headers=headers, data=json.dumps(payload))"
   ]
  },
  {
   "cell_type": "code",
   "execution_count": 34,
   "metadata": {},
   "outputs": [
    {
     "data": {
      "text/plain": [
       "b'{\"input_message\":\"hi I feel pain\",\"output_message\":\"I am sorry to hear that you are feeling pain. I am a large language model, and I am not able to provide medical advice. However, I can provide you with some information about pain.\\\\n\\\\nPain is a complex experience that involves both physical and emotional components. It is caused by the activation of pain receptors in the body, which send signals to the brain. The brain then interprets these signals and produces the sensation of pain.\\\\n\\\\nThere are many different causes of pain, including injury, illness, and surgery. Pain can also be caused by psychological factors, such as stress and anxiety.\\\\n\\\\nIf you are experiencing pain, it is important to see a doctor to determine the cause and get appropriate treatment. There are many different treatments available for pain, including medication, physical therapy, and surgery.\\\\n\\\\nI hope this information is helpful.\",\"user_id\":\"Emmy\"}'"
      ]
     },
     "execution_count": 34,
     "metadata": {},
     "output_type": "execute_result"
    }
   ],
   "source": [
    "response.content"
   ]
  },
  {
   "cell_type": "code",
   "execution_count": null,
   "metadata": {},
   "outputs": [],
   "source": []
  }
 ],
 "metadata": {
  "kernelspec": {
   "display_name": ".venv",
   "language": "python",
   "name": "python3"
  },
  "language_info": {
   "codemirror_mode": {
    "name": "ipython",
    "version": 3
   },
   "file_extension": ".py",
   "mimetype": "text/x-python",
   "name": "python",
   "nbconvert_exporter": "python",
   "pygments_lexer": "ipython3",
   "version": "3.11.4"
  }
 },
 "nbformat": 4,
 "nbformat_minor": 2
}
